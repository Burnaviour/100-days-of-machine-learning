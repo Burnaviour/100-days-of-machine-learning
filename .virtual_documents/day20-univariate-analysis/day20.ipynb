import pandas as pd
import seaborn as sn


df = pd.read_csv('train.csv')


df.head()









# count plot on single categorical variable
sns.countplot(x ='Pclass', hue ="Embarked", data = df)
#df['Survived'].value_counts().plot(kind='bar')





df['Sex'].value_counts().plot(kind='pie',autopct='%.2f')











import matplotlib.pyplot as plt
plt.hist(df['Age'],bins=5)





sns.displot





sns.boxplot(x=df['Age'],data=df)


df['Age'].min()


df['Age'].max()


df['Age'].mean()


df['Age'].skew()



